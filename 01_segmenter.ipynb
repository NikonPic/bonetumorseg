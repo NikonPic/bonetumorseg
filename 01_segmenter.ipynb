{
 "cells": [
  {
   "cell_type": "markdown",
   "metadata": {},
   "source": [
    "# <center>Apply a bone tumor segmenter on an radiomic exam</center>"
   ]
  },
  {
   "cell_type": "code",
   "execution_count": 1,
   "metadata": {},
   "outputs": [],
   "source": [
    "# imports\n",
    "import ipywidgets as widgets\n",
    "from PIL import Image\n",
    "import io\n",
    "import numpy as np\n",
    "\n",
    "from detectron2.utils.visualizer import ColorMode\n",
    "from detectron2.data.datasets import register_coco_instances\n",
    "from detectron2.data import MetadataCatalog\n",
    "from detectron2.utils.visualizer import Visualizer\n",
    "from detectron2.config import get_cfg\n",
    "from detectron2.engine import DefaultPredictor\n",
    "from detectron2 import model_zoo\n",
    "from detectron2.data import DatasetCatalog, MetadataCatalog\n",
    "\n",
    "register_coco_instances(\n",
    "    \"my_dataset_train\", {}, \"./train.json\", ''\n",
    ")\n",
    "\n",
    "from IPython.display import HTML\n",
    "loading = HTML('<img src=\"img/loading.gif\">')"
   ]
  },
  {
   "cell_type": "code",
   "execution_count": 2,
   "metadata": {},
   "outputs": [],
   "source": [
    "cfg = get_cfg()\n",
    "\n",
    "cfg.MODEL.ROI_HEADS.BATCH_SIZE_PER_IMAGE = 512\n",
    "cfg.DATALOADER.SAMPLER_TRAIN = \"RepeatFactorTrainingSampler\"\n",
    "cfg.DATALOADER.REPEAT_THRESHOLD = 0.001\n",
    "cfg.MODEL.ROI_HEADS.SCORE_THRESH_TEST = 0.0\n",
    "cfg.MODEL.ROI_HEADS.NUM_CLASSES = 2\n",
    "cfg.merge_from_file(model_zoo.get_config_file(\"COCO-InstanceSegmentation/mask_rcnn_X_101_32x8d_FPN_3x.yaml\"))\n",
    "cfg.MODEL.WEIGHTS = './model.pth'\n",
    "cfg.DATASETS.TRAIN = (\"my_dataset_train\",)\n",
    "cfg.MODEL.DEVICE= 'cpu'\n",
    "mal_col = (0, 69, 255)  # red\n",
    "ben_col = (50, 205, 50)  # green\n",
    "\n",
    "\n",
    "MetadataCatalog.get(cfg.DATASETS.TRAIN[0]).thing_colors = [ben_col, mal_col]\n",
    "predictor = DefaultPredictor(cfg)\n",
    "#cfg.DATASETS.TRAIN"
   ]
  },
  {
   "cell_type": "markdown",
   "metadata": {},
   "source": [
    "### Upload the desired radiograph"
   ]
  },
  {
   "cell_type": "code",
   "execution_count": 3,
   "metadata": {},
   "outputs": [
    {
     "data": {
      "application/vnd.jupyter.widget-view+json": {
       "model_id": "cb17c2345a1d45d69b6322c894bef7fd",
       "version_major": 2,
       "version_minor": 0
      },
      "text/plain": [
       "HBox(children=(FileUpload(value={}, description='Upload'),), layout=Layout(align_items='center', display='flex…"
      ]
     },
     "metadata": {},
     "output_type": "display_data"
    }
   ],
   "source": [
    "btn_upload = widgets.FileUpload()\n",
    "box_layout = widgets.Layout(display='flex',\n",
    "                flex_flow='column',\n",
    "                align_items='center',\n",
    "                width='50%')\n",
    "\n",
    "box = widgets.HBox(children=[btn_upload],layout=box_layout)\n",
    "display(box)"
   ]
  },
  {
   "cell_type": "code",
   "execution_count": 4,
   "metadata": {},
   "outputs": [],
   "source": [
    "def on_data_change(change):\n",
    "    out_pl.clear_output()\n",
    "    with out_pl: display(loading)\n",
    "    img = Image.open(io.BytesIO(btn_upload.data[-1]))\n",
    "    out_pl.clear_output()\n",
    "    with out_pl: display(img.resize([512, 512]))\n",
    "\n",
    "btn_upload.observe(on_data_change, names=['data'])"
   ]
  },
  {
   "cell_type": "code",
   "execution_count": 5,
   "metadata": {},
   "outputs": [
    {
     "data": {
      "application/vnd.jupyter.widget-view+json": {
       "model_id": "c8b8c20e95fc4d55b317ddd5e9b31021",
       "version_major": 2,
       "version_minor": 0
      },
      "text/plain": [
       "HBox(children=(Output(),), layout=Layout(align_items='center', display='flex', flex_flow='column', width='50%'…"
      ]
     },
     "metadata": {},
     "output_type": "display_data"
    }
   ],
   "source": [
    "out_pl = widgets.Output()\n",
    "out_pl.clear_output()\n",
    "box_out = widgets.HBox(children=[out_pl],layout=box_layout)\n",
    "display(box_out)"
   ]
  },
  {
   "cell_type": "markdown",
   "metadata": {},
   "source": [
    "### Segment the tumor, this takes about 1 min."
   ]
  },
  {
   "cell_type": "code",
   "execution_count": 6,
   "metadata": {},
   "outputs": [
    {
     "data": {
      "application/vnd.jupyter.widget-view+json": {
       "model_id": "78797434d5a643d58871470001574d8e",
       "version_major": 2,
       "version_minor": 0
      },
      "text/plain": [
       "HBox(children=(Button(description='Segment', style=ButtonStyle()),), layout=Layout(align_items='center', displ…"
      ]
     },
     "metadata": {},
     "output_type": "display_data"
    },
    {
     "name": "stderr",
     "output_type": "stream",
     "text": [
      "C:\\Users\\ga46yeg\\Anaconda3\\lib\\site-packages\\detectron2\\layers\\wrappers.py:226: UserWarning: This overload of nonzero is deprecated:\n",
      "\tnonzero()\n",
      "Consider using one of the following signatures instead:\n",
      "\tnonzero(*, bool as_tuple) (Triggered internally at  ..\\torch\\csrc\\utils\\python_arg_parser.cpp:766.)\n",
      "  return x.nonzero().unbind(1)\n"
     ]
    }
   ],
   "source": [
    "btn_run = widgets.Button(description='Segment')\n",
    "\n",
    "\n",
    "box2 = widgets.HBox(children=[btn_run],layout=box_layout)\n",
    "display(box2)"
   ]
  },
  {
   "cell_type": "code",
   "execution_count": 7,
   "metadata": {},
   "outputs": [],
   "source": [
    "def on_click_segment(change):\n",
    "    out_pl.clear_output()\n",
    "    with out_pl: display(loading)\n",
    "    img = np.array(Image.open(io.BytesIO(btn_upload.data[-1])))\n",
    "    img = img[:, :, :3]\n",
    "    \n",
    "    outputs = predictor(img)\n",
    "    instances = outputs[\"instances\"].to(\"cpu\")[:1]\n",
    "    \n",
    "    v = Visualizer(\n",
    "        img[:, :, ::-1],\n",
    "        metadata=MetadataCatalog.get(cfg.DATASETS.TRAIN[0]),\n",
    "        scale=1,\n",
    "        instance_mode=ColorMode.SEGMENTATION,\n",
    "    )\n",
    "    v = v.draw_instance_predictions(instances)\n",
    "    back_img = Image.fromarray(v.get_image()[:, :, ::-1]) \n",
    "    \n",
    "    out_pl.clear_output()\n",
    "    with out_pl: display(back_img.resize([512, 512]))\n",
    "\n",
    "btn_run.on_click(on_click_segment)"
   ]
  },
  {
   "cell_type": "code",
   "execution_count": 8,
   "metadata": {},
   "outputs": [],
   "source": [
    "#!pip install voila\n",
    "#!jupyter serverexternsion enable voila --sys-prefix"
   ]
  },
  {
   "cell_type": "markdown",
   "metadata": {},
   "source": [
    "This segmenter is only for demonstration purpose and does not provide any kind of medical advice."
   ]
  }
 ],
 "metadata": {
  "kernelspec": {
   "display_name": "Python 3",
   "language": "python",
   "name": "python3"
  },
  "language_info": {
   "codemirror_mode": {
    "name": "ipython",
    "version": 3
   },
   "file_extension": ".py",
   "mimetype": "text/x-python",
   "name": "python",
   "nbconvert_exporter": "python",
   "pygments_lexer": "ipython3",
   "version": "3.7.6"
  }
 },
 "nbformat": 4,
 "nbformat_minor": 2
}
