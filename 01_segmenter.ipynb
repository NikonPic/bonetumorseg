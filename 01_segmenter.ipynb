{
 "cells": [
  {
   "cell_type": "markdown",
   "metadata": {},
   "source": [
    "# <center>Apply a bone tumor segmenter on an radiomic exam</center>"
   ]
  },
  {
   "cell_type": "code",
   "execution_count": 1,
   "metadata": {},
   "outputs": [],
   "source": [
    "# imports\n",
    "import ipywidgets as widgets\n",
    "from PIL import Image\n",
    "import io\n",
    "import numpy as np\n",
    "\n",
    "from detectron2.utils.visualizer import ColorMode\n",
    "from detectron2.data.datasets import register_coco_instances\n",
    "from detectron2.data import MetadataCatalog\n",
    "from detectron2.utils.visualizer import Visualizer\n",
    "from detectron2.config import get_cfg\n",
    "from detectron2.engine import DefaultPredictor\n",
    "from detectron2 import model_zoo\n",
    "from detectron2.data import DatasetCatalog, MetadataCatalog\n",
    "\n",
    "register_coco_instances(\n",
    "    \"my_dataset_train\", {}, \"./train.json\", ''\n",
    ")\n",
    "\n",
    "from IPython.display import HTML\n",
    "loading = HTML('<img src=\"img/loading.gif\">')"
   ]
  },
  {
   "cell_type": "code",
   "execution_count": 2,
   "metadata": {},
   "outputs": [],
   "source": [
    "cfg = get_cfg()\n",
    "\n",
    "cfg.MODEL.ROI_HEADS.BATCH_SIZE_PER_IMAGE = 512\n",
    "cfg.DATALOADER.SAMPLER_TRAIN = \"RepeatFactorTrainingSampler\"\n",
    "cfg.DATALOADER.REPEAT_THRESHOLD = 0.001\n",
    "cfg.MODEL.ROI_HEADS.SCORE_THRESH_TEST = 0.0\n",
    "cfg.MODEL.ROI_HEADS.NUM_CLASSES = 2\n",
    "cfg.merge_from_file(model_zoo.get_config_file(\"COCO-InstanceSegmentation/mask_rcnn_X_101_32x8d_FPN_3x.yaml\"))\n",
    "cfg.MODEL.WEIGHTS = './model.pth'\n",
    "cfg.DATASETS.TRAIN = (\"my_dataset_train\",)\n",
    "cfg.MODEL.DEVICE= 'cpu'\n",
    "mal_col = (0, 69, 255)  # red\n",
    "ben_col = (50, 205, 50)  # green\n",
    "\n",
    "max_width = 800\n",
    "max_height = 1200\n",
    "\n",
    "\n",
    "MetadataCatalog.get(cfg.DATASETS.TRAIN[0]).thing_colors = [ben_col, mal_col]\n",
    "predictor = DefaultPredictor(cfg)\n",
    "#cfg.DATASETS.TRAIN"
   ]
  },
  {
   "cell_type": "markdown",
   "metadata": {},
   "source": [
    "### Upload the desired radiograph"
   ]
  },
  {
   "cell_type": "code",
   "execution_count": 3,
   "metadata": {},
   "outputs": [
    {
     "data": {
      "application/vnd.jupyter.widget-view+json": {
       "model_id": "3c276228251747aab6b6b445d1487318",
       "version_major": 2,
       "version_minor": 0
      },
      "text/plain": [
       "FileUpload(value={}, description='Upload')"
      ]
     },
     "metadata": {},
     "output_type": "display_data"
    },
    {
     "name": "stdout",
     "output_type": "stream",
     "text": [
      "(1697, 929)\n",
      "(800, 929)\n"
     ]
    }
   ],
   "source": [
    "btn_upload = widgets.FileUpload()\n",
    "box_layout = widgets.Layout(display='flex',\n",
    "                flex_flow='column',\n",
    "                align_items='center',\n",
    "                width='50%')\n",
    "\n",
    "btn_upload"
   ]
  },
  {
   "cell_type": "code",
   "execution_count": 4,
   "metadata": {},
   "outputs": [],
   "source": [
    "def center_crop(im):\n",
    "\n",
    "    sz = im.size   # Get dimensions\n",
    "    width, height = sz[0], sz[1]\n",
    "    print(sz)\n",
    "    \n",
    "    new_width = min(width, max_width)\n",
    "    new_height = min(height, max_height)\n",
    "\n",
    "    left = (width - new_width)/2\n",
    "    top = (height - new_height)/2\n",
    "    right = (width + new_width)/2\n",
    "    bottom = (height + new_height)/2\n",
    "\n",
    "    # Crop the center of the image\n",
    "    im = im.crop((left, top, right, bottom))\n",
    "    print(im.size)\n",
    "    return im"
   ]
  },
  {
   "cell_type": "code",
   "execution_count": 5,
   "metadata": {},
   "outputs": [],
   "source": [
    "def on_data_change(change):\n",
    "    out_pl.clear_output()\n",
    "    with out_pl: display(loading)\n",
    "    img = Image.open(io.BytesIO(btn_upload.data[-1]))\n",
    "    img = center_crop(img)\n",
    "    out_pl.clear_output()\n",
    "    with out_pl: display(img)\n",
    "\n",
    "btn_upload.observe(on_data_change, names=['data'])"
   ]
  },
  {
   "cell_type": "code",
   "execution_count": 6,
   "metadata": {},
   "outputs": [
    {
     "data": {
      "application/vnd.jupyter.widget-view+json": {
       "model_id": "cd3d5af65cfd42a8b09d3f788e780233",
       "version_major": 2,
       "version_minor": 0
      },
      "text/plain": [
       "Output()"
      ]
     },
     "metadata": {},
     "output_type": "display_data"
    }
   ],
   "source": [
    "out_pl = widgets.Output()\n",
    "out_pl.clear_output()\n",
    "out_pl"
   ]
  },
  {
   "cell_type": "markdown",
   "metadata": {},
   "source": [
    "### Segment the tumor, this takes about 1 min."
   ]
  },
  {
   "cell_type": "code",
   "execution_count": 7,
   "metadata": {
    "scrolled": true
   },
   "outputs": [
    {
     "data": {
      "application/vnd.jupyter.widget-view+json": {
       "model_id": "ec1699bcd66347088dc32efde4a6f1b3",
       "version_major": 2,
       "version_minor": 0
      },
      "text/plain": [
       "Button(description='Segment', style=ButtonStyle())"
      ]
     },
     "metadata": {},
     "output_type": "display_data"
    },
    {
     "name": "stdout",
     "output_type": "stream",
     "text": [
      "(1697, 929)\n",
      "(800, 929)\n",
      "(929, 800, 3)\n"
     ]
    },
    {
     "name": "stderr",
     "output_type": "stream",
     "text": [
      "C:\\Users\\Niko\\anaconda3\\lib\\site-packages\\detectron2\\layers\\wrappers.py:240: UserWarning: This overload of nonzero is deprecated:\n",
      "\tnonzero()\n",
      "Consider using one of the following signatures instead:\n",
      "\tnonzero(*, bool as_tuple) (Triggered internally at  ..\\torch\\csrc\\utils\\python_arg_parser.cpp:766.)\n",
      "  return x.nonzero().unbind(1)\n"
     ]
    }
   ],
   "source": [
    "btn_run = widgets.Button(description='Segment')\n",
    "btn_run"
   ]
  },
  {
   "cell_type": "code",
   "execution_count": 8,
   "metadata": {},
   "outputs": [],
   "source": [
    "def on_click_segment(change):\n",
    "    out_pl.clear_output()\n",
    "    with out_pl: display(loading)\n",
    "    img = Image.open(io.BytesIO(btn_upload.data[0]))\n",
    "    img = np.array(center_crop(img))[:, :, :3]\n",
    "    print(img.shape)\n",
    "    \n",
    "    outputs = predictor(img)\n",
    "    instances = outputs[\"instances\"].to(\"cpu\")[:1]\n",
    "    \n",
    "    v = Visualizer(\n",
    "        img[:, :, ::-1],\n",
    "        metadata=MetadataCatalog.get(cfg.DATASETS.TRAIN[0]),\n",
    "        scale=1,\n",
    "        instance_mode=ColorMode.SEGMENTATION,\n",
    "    )\n",
    "    v = v.draw_instance_predictions(instances)\n",
    "    back_img = Image.fromarray(v.get_image()[:, :, ::-1]) \n",
    "    \n",
    "    out_pl.clear_output()\n",
    "    with out_pl: display(back_img)\n",
    "\n",
    "btn_run.on_click(on_click_segment)"
   ]
  },
  {
   "cell_type": "code",
   "execution_count": 9,
   "metadata": {},
   "outputs": [],
   "source": [
    "#!pip install voila\n",
    "#!jupyter serverexternsion enable voila --sys-prefix"
   ]
  },
  {
   "cell_type": "markdown",
   "metadata": {},
   "source": [
    "This segmenter is for demonstration purposes only and does not provide any kind of medical approval or advice.\n",
    "For questions contact nikolas.wilhelm@tum.de"
   ]
  },
  {
   "cell_type": "code",
   "execution_count": null,
   "metadata": {},
   "outputs": [],
   "source": []
  }
 ],
 "metadata": {
  "kernelspec": {
   "display_name": "Python 3",
   "language": "python",
   "name": "python3"
  },
  "language_info": {
   "codemirror_mode": {
    "name": "ipython",
    "version": 3
   },
   "file_extension": ".py",
   "mimetype": "text/x-python",
   "name": "python",
   "nbconvert_exporter": "python",
   "pygments_lexer": "ipython3",
   "version": "3.7.9"
  }
 },
 "nbformat": 4,
 "nbformat_minor": 2
}
